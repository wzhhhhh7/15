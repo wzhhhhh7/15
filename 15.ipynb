{
 "cells": [
  {
   "cell_type": "code",
   "execution_count": 21,
   "metadata": {},
   "outputs": [
    {
     "ename": "IndentationError",
     "evalue": "unindent does not match any outer indentation level (<ipython-input-21-9490625c48e5>, line 26)",
     "output_type": "error",
     "traceback": [
      "\u001b[1;36m  File \u001b[1;32m\"<ipython-input-21-9490625c48e5>\"\u001b[1;36m, line \u001b[1;32m26\u001b[0m\n\u001b[1;33m    else:\u001b[0m\n\u001b[1;37m         ^\u001b[0m\n\u001b[1;31mIndentationError\u001b[0m\u001b[1;31m:\u001b[0m unindent does not match any outer indentation level\n"
     ]
    }
   ],
   "source": [
    "from math import pi\n",
    "import math\n",
    "class Circle():\n",
    "    def __init__(self, r, x, y):\n",
    "        self.radius = r\n",
    "        self.pi = pi\n",
    "        self.coordinates = (x,y)\n",
    "    def area(self):\n",
    "        return self.radius**2*pi\n",
    "    \n",
    "    def perimeter(self):\n",
    "        return 2*self.radius*pi\n",
    "    def istangent(self):\n",
    "        d = math.hypot(x1-x2,y1-y2)\n",
    "        if d<abs(r1-r2):\n",
    "            print(\"两圆内切\")\n",
    "        elif d==abs(r1-r2):\n",
    "            if r1==r2:\n",
    "                print(\"两圆重合\")\n",
    "            else:\n",
    "                print(\"两圆内切\")\n",
    "        elif d<r1+r2:\n",
    "                print(\"两圆相交\")\n",
    "        elif d==r1+r2:\n",
    "                print(\"两圆外切\")\n",
    "            else:\n",
    "                print(\"两圆外离\")\n",
    "        return\n",
    "NewCircle = Circle(20)\n",
    "print(NewCircle.area())\n",
    "print(NewCircle.perimeter())"
   ]
  },
  {
   "cell_type": "code",
   "execution_count": 3,
   "metadata": {},
   "outputs": [
    {
     "name": "stdout",
     "output_type": "stream",
     "text": [
      "This Is A Test\n"
     ]
    }
   ],
   "source": [
    "sentence = 'this is a test'\n",
    "\n",
    "def cap(sentence):\n",
    "    words = sentence.split()\n",
    "    return ' '.join([word.capitalize() for word in words])\n",
    "print(cap(sentence))"
   ]
  },
  {
   "cell_type": "code",
   "execution_count": null,
   "metadata": {},
   "outputs": [],
   "source": []
  }
 ],
 "metadata": {
  "kernelspec": {
   "display_name": "Python 3",
   "language": "python",
   "name": "python3"
  },
  "language_info": {
   "codemirror_mode": {
    "name": "ipython",
    "version": 3
   },
   "file_extension": ".py",
   "mimetype": "text/x-python",
   "name": "python",
   "nbconvert_exporter": "python",
   "pygments_lexer": "ipython3",
   "version": "3.6.5"
  }
 },
 "nbformat": 4,
 "nbformat_minor": 2
}
